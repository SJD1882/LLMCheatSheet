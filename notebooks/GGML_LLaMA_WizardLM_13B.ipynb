{
  "nbformat": 4,
  "nbformat_minor": 0,
  "metadata": {
    "colab": {
      "provenance": [],
      "toc_visible": true,
      "gpuType": "T4",
      "authorship_tag": "ABX9TyMgiZfRRODCIpBSu0s5lqJx",
      "include_colab_link": true
    },
    "kernelspec": {
      "name": "python3",
      "display_name": "Python 3"
    },
    "language_info": {
      "name": "python"
    },
    "accelerator": "GPU"
  },
  "cells": [
    {
      "cell_type": "markdown",
      "metadata": {
        "id": "view-in-github",
        "colab_type": "text"
      },
      "source": [
        "<a href=\"https://colab.research.google.com/github/SJD1882/LLMCheatSheet/blob/main/notebooks/GGML_LLaMA_WizardLM_13B.ipynb\" target=\"_parent\"><img src=\"https://colab.research.google.com/assets/colab-badge.svg\" alt=\"Open In Colab\"/></a>"
      ]
    },
    {
      "cell_type": "markdown",
      "source": [
        "# **Open Source Large Language Models**\n",
        "\n",
        "# **I. Basics**\n",
        "\n",
        "# **Running GGML LLMs (CPU-only) on Google Colab with Langchain**\n",
        "\n",
        "## **Model: LLaMA 13B finetuned with WizardLM + Vicuna Instruction Datasets**"
      ],
      "metadata": {
        "id": "fTthaP-RAnMd"
      }
    },
    {
      "cell_type": "markdown",
      "source": [
        "**Setings**"
      ],
      "metadata": {
        "id": "qLqJjPnWB_Bo"
      }
    },
    {
      "cell_type": "code",
      "source": [
        "SEED = 42\n",
        "is_show_reply = True\n",
        "LLM_MAX_TOKENS = 2048 # Max for LLaMA models\n",
        "LLM_TOP_P = 0.9\n",
        "LLM_TOP_K = 150\n",
        "LLM_REPETITION_PENALTY = 1.1\n",
        "LLM_TEMPERATURE = 0.1\n",
        "LLM_HF_MODEL_REPOSITORY = 'TheBloke/Wizard-Vicuna-13B-Uncensored-GGML'"
      ],
      "metadata": {
        "id": "GxkcyfIrCAxb"
      },
      "execution_count": 1,
      "outputs": []
    },
    {
      "cell_type": "markdown",
      "source": [
        "**Motivation**"
      ],
      "metadata": {
        "id": "KdLjgKy-BD1D"
      }
    },
    {
      "cell_type": "markdown",
      "source": [
        "Bulgarian programmer Georgi Gerganov released back in March 2023 - **llama.cpp** - a 4-bit quantization algorithm in C/C++ for running Meta's LLaMA only on the CPU. This unlocked running LLaMA on any device that either lacked a NVIDIA GPU (Apple laptops or workstations, AMD/Intel GPUs) or had an NVIDIA GPU but insufficient VRAM capacity. This was latter expanded to models outside of LLaMA and thanks to the work of the HuggingFace community, each new open source LLM release immediately gets a GGML conversion for compatibility with Gerganov's C/C++ framework.\n",
        "\n",
        "**This notebook implements a LLaMA 13B finetuned on a [combination of two instructions datasets](https://github.com/melodysdreamj/WizardVicunaLM): instructions generated with the [WizardLM methodology](https://www.semanticscholar.org/paper/WizardLM%3A-Empowering-Large-Language-Models-to-Xu-Sun/c61abec65d3b5d2bbd294b3d03f12ae252ed78a7) and an another set of [GPT-4 prompts/replies collected by ShareGPT](https://lmsys.org/blog/2023-03-30-vicuna/). Reponses with OpenAI's restrictions (*As an AI language model...*) were filtered out, thus as a precautionary warning the model is unrestricted.**\n",
        "\n",
        "The original uncompressed LLaMA 13B required at least 20Go of GPU VRAM, meaning only consumers with NVIDIA's RTX 4090 could run this LLM. Now with llama.cpp, we can run it on a **CPU-only environment with 8Go of CPU RAM** 🤯\n",
        "\n",
        "Caution: the Colab implementation here only has only 2 CPUs so the results will unfortunately be **extremely slow**. I fiddled with some GPU options and llama.cpp will add soon a complete hybrid GPU/CPU mode for faster inference prediction."
      ],
      "metadata": {
        "id": "apHhIgNqBHde"
      }
    },
    {
      "cell_type": "markdown",
      "source": [
        "**Requirements**"
      ],
      "metadata": {
        "id": "0kG_YxkOBGHs"
      }
    },
    {
      "cell_type": "markdown",
      "source": [
        "- Runtime environement for this Colab Notebook:\n",
        "    - RAM: Standard (12Go)\n",
        "    - GPU: Nvidia T4 15Go VRAM (even though you don't need GPUs, it can still be use to accelarate inference speed)"
      ],
      "metadata": {
        "id": "-JSI_EX1BIHn"
      }
    },
    {
      "cell_type": "markdown",
      "source": [
        "**Technical References**"
      ],
      "metadata": {
        "id": "DTnmpRYtBPpv"
      }
    },
    {
      "cell_type": "markdown",
      "source": [
        "- [TheBloke/Wizard-Vicuna-13B-Uncensored-GGML](https://huggingface.co/TheBloke/Wizard-Vicuna-13B-Uncensored-GGML)\n",
        "- [Regularly updated quantized versions of LLMs on HuggingFace by user TheBloke](https://huggingface.co/TheBloke)\n",
        "- [Analysis of VRAM requirements and performance of finetuned LLaMA models on r/LocalLLaMA](https://www.reddit.com/r/LocalLLaMA/wiki/models/)\n",
        "- [C/C++ implementation of LLaMA by Georgi Gerganov](https://github.com/ggerganov/llama.cpp)"
      ],
      "metadata": {
        "id": "oSiewh4xBbwW"
      }
    },
    {
      "cell_type": "markdown",
      "source": [
        "**Check Ressources**"
      ],
      "metadata": {
        "id": "X0n5ZEZCC5JE"
      }
    },
    {
      "cell_type": "code",
      "source": [
        "!echo \"CPU RAM\"\n",
        "!free -gh\n",
        "!echo \"\"\n",
        "!echo \"\"\n",
        "!echo \"GPU VRAM\"\n",
        "!nvidia-smi"
      ],
      "metadata": {
        "colab": {
          "base_uri": "https://localhost:8080/"
        },
        "id": "HaDofjSSBQTn",
        "outputId": "228d0db7-6d9f-4b0a-8a99-ff4ee3d9c9a2"
      },
      "execution_count": 2,
      "outputs": [
        {
          "output_type": "stream",
          "name": "stdout",
          "text": [
            "CPU RAM\n",
            "              total        used        free      shared  buff/cache   available\n",
            "Mem:           12Gi       609Mi       8.6Gi       2.0Mi       3.5Gi        11Gi\n",
            "Swap:            0B          0B          0B\n",
            "\n",
            "\n",
            "GPU VRAM\n",
            "Sat May 27 12:47:16 2023       \n",
            "+-----------------------------------------------------------------------------+\n",
            "| NVIDIA-SMI 525.85.12    Driver Version: 525.85.12    CUDA Version: 12.0     |\n",
            "|-------------------------------+----------------------+----------------------+\n",
            "| GPU  Name        Persistence-M| Bus-Id        Disp.A | Volatile Uncorr. ECC |\n",
            "| Fan  Temp  Perf  Pwr:Usage/Cap|         Memory-Usage | GPU-Util  Compute M. |\n",
            "|                               |                      |               MIG M. |\n",
            "|===============================+======================+======================|\n",
            "|   0  Tesla T4            Off  | 00000000:00:04.0 Off |                    0 |\n",
            "| N/A   51C    P8     9W /  70W |      0MiB / 15360MiB |      0%      Default |\n",
            "|                               |                      |                  N/A |\n",
            "+-------------------------------+----------------------+----------------------+\n",
            "                                                                               \n",
            "+-----------------------------------------------------------------------------+\n",
            "| Processes:                                                                  |\n",
            "|  GPU   GI   CI        PID   Type   Process name                  GPU Memory |\n",
            "|        ID   ID                                                   Usage      |\n",
            "|=============================================================================|\n",
            "|  No running processes found                                                 |\n",
            "+-----------------------------------------------------------------------------+\n"
          ]
        }
      ]
    },
    {
      "cell_type": "markdown",
      "source": [
        "# **1. Setup**"
      ],
      "metadata": {
        "id": "LVAAP1EwDCCu"
      }
    },
    {
      "cell_type": "markdown",
      "source": [
        "## 1.1. Installation"
      ],
      "metadata": {
        "id": "Fsdv8uKZEGGL"
      }
    },
    {
      "cell_type": "code",
      "source": [
        "%%sh\n",
        "mkdir -p /content/results/\n",
        "mkdir -p /content/llm_models/"
      ],
      "metadata": {
        "id": "doBBPZF3D3-A"
      },
      "execution_count": 3,
      "outputs": []
    },
    {
      "cell_type": "markdown",
      "source": [
        "LLAMA_CUBLAS=1: \"*This provides BLAS acceleration using the CUDA cores of your Nvidia GPU. Make sure to have the CUDA toolkit installed. You can download it from your Linux distro's package manager or from here: CUDA Toolkit*.\" (Source: [llama.cpp](https://github.com/ggerganov/llama.cpp))"
      ],
      "metadata": {
        "id": "gqnCivZCy-fm"
      }
    },
    {
      "cell_type": "code",
      "source": [
        "%%sh\n",
        "git clone https://github.com/ggerganov/llama.cpp\n",
        "cd llama.cpp\n",
        "make LLAMA_CUBLAS=1"
      ],
      "metadata": {
        "colab": {
          "base_uri": "https://localhost:8080/"
        },
        "id": "vWUehj9uUbJP",
        "outputId": "7e6347d3-4238-4b2a-8ea4-e46b20ec69cd"
      },
      "execution_count": 4,
      "outputs": [
        {
          "output_type": "stream",
          "name": "stdout",
          "text": [
            "I llama.cpp build info: \n",
            "I UNAME_S:  Linux\n",
            "I UNAME_P:  x86_64\n",
            "I UNAME_M:  x86_64\n",
            "I CFLAGS:   -I.              -O3 -std=c11   -fPIC -DNDEBUG -Wall -Wextra -Wpedantic -Wcast-qual -Wdouble-promotion -Wshadow -Wstrict-prototypes -Wpointer-arith -pthread -march=native -mtune=native -DGGML_USE_CUBLAS -I/usr/local/cuda/include -I/opt/cuda/include -I/targets/x86_64-linux/include\n",
            "I CXXFLAGS: -I. -I./examples -O3 -std=c++11 -fPIC -DNDEBUG -Wall -Wextra -Wpedantic -Wcast-qual -Wno-unused-function -Wno-multichar -pthread -march=native -mtune=native -DGGML_USE_CUBLAS -I/usr/local/cuda/include -I/opt/cuda/include -I/targets/x86_64-linux/include\n",
            "I LDFLAGS:   -lcublas -lculibos -lcudart -lcublasLt -lpthread -ldl -lrt -L/usr/local/cuda/lib64 -L/opt/cuda/lib64 -L/targets/x86_64-linux/lib\n",
            "I CC:       cc (Ubuntu 9.4.0-1ubuntu1~20.04.1) 9.4.0\n",
            "I CXX:      g++ (Ubuntu 9.4.0-1ubuntu1~20.04.1) 9.4.0\n",
            "\n",
            "cc  -I.              -O3 -std=c11   -fPIC -DNDEBUG -Wall -Wextra -Wpedantic -Wcast-qual -Wdouble-promotion -Wshadow -Wstrict-prototypes -Wpointer-arith -pthread -march=native -mtune=native -DGGML_USE_CUBLAS -I/usr/local/cuda/include -I/opt/cuda/include -I/targets/x86_64-linux/include   -c ggml.c -o ggml.o\n",
            "g++ -I. -I./examples -O3 -std=c++11 -fPIC -DNDEBUG -Wall -Wextra -Wpedantic -Wcast-qual -Wno-unused-function -Wno-multichar -pthread -march=native -mtune=native -DGGML_USE_CUBLAS -I/usr/local/cuda/include -I/opt/cuda/include -I/targets/x86_64-linux/include -c llama.cpp -o llama.o\n",
            "g++ -I. -I./examples -O3 -std=c++11 -fPIC -DNDEBUG -Wall -Wextra -Wpedantic -Wcast-qual -Wno-unused-function -Wno-multichar -pthread -march=native -mtune=native -DGGML_USE_CUBLAS -I/usr/local/cuda/include -I/opt/cuda/include -I/targets/x86_64-linux/include -c examples/common.cpp -o common.o\n",
            "nvcc --forward-unknown-to-host-compiler -arch=native -DGGML_CUDA_DMMV_X=32 -DGGML_CUDA_DMMV_Y=1 -I. -I./examples -O3 -std=c++11 -fPIC -DNDEBUG -Wall -Wextra -Wpedantic -Wcast-qual -Wno-unused-function -Wno-multichar -pthread -march=native -mtune=native -DGGML_USE_CUBLAS -I/usr/local/cuda/include -I/opt/cuda/include -I/targets/x86_64-linux/include -Wno-pedantic -c ggml-cuda.cu -o ggml-cuda.o\n",
            "g++ -I. -I./examples -O3 -std=c++11 -fPIC -DNDEBUG -Wall -Wextra -Wpedantic -Wcast-qual -Wno-unused-function -Wno-multichar -pthread -march=native -mtune=native -DGGML_USE_CUBLAS -I/usr/local/cuda/include -I/opt/cuda/include -I/targets/x86_64-linux/include examples/main/main.cpp ggml.o llama.o common.o ggml-cuda.o -o main  -lcublas -lculibos -lcudart -lcublasLt -lpthread -ldl -lrt -L/usr/local/cuda/lib64 -L/opt/cuda/lib64 -L/targets/x86_64-linux/lib\n",
            "\n",
            "====  Run ./main -h for help.  ====\n",
            "\n",
            "g++ -I. -I./examples -O3 -std=c++11 -fPIC -DNDEBUG -Wall -Wextra -Wpedantic -Wcast-qual -Wno-unused-function -Wno-multichar -pthread -march=native -mtune=native -DGGML_USE_CUBLAS -I/usr/local/cuda/include -I/opt/cuda/include -I/targets/x86_64-linux/include examples/quantize/quantize.cpp ggml.o llama.o ggml-cuda.o -o quantize  -lcublas -lculibos -lcudart -lcublasLt -lpthread -ldl -lrt -L/usr/local/cuda/lib64 -L/opt/cuda/lib64 -L/targets/x86_64-linux/lib\n",
            "g++ -I. -I./examples -O3 -std=c++11 -fPIC -DNDEBUG -Wall -Wextra -Wpedantic -Wcast-qual -Wno-unused-function -Wno-multichar -pthread -march=native -mtune=native -DGGML_USE_CUBLAS -I/usr/local/cuda/include -I/opt/cuda/include -I/targets/x86_64-linux/include examples/quantize-stats/quantize-stats.cpp ggml.o llama.o ggml-cuda.o -o quantize-stats  -lcublas -lculibos -lcudart -lcublasLt -lpthread -ldl -lrt -L/usr/local/cuda/lib64 -L/opt/cuda/lib64 -L/targets/x86_64-linux/lib\n",
            "g++ -I. -I./examples -O3 -std=c++11 -fPIC -DNDEBUG -Wall -Wextra -Wpedantic -Wcast-qual -Wno-unused-function -Wno-multichar -pthread -march=native -mtune=native -DGGML_USE_CUBLAS -I/usr/local/cuda/include -I/opt/cuda/include -I/targets/x86_64-linux/include examples/perplexity/perplexity.cpp ggml.o llama.o common.o ggml-cuda.o -o perplexity  -lcublas -lculibos -lcudart -lcublasLt -lpthread -ldl -lrt -L/usr/local/cuda/lib64 -L/opt/cuda/lib64 -L/targets/x86_64-linux/lib\n",
            "g++ -I. -I./examples -O3 -std=c++11 -fPIC -DNDEBUG -Wall -Wextra -Wpedantic -Wcast-qual -Wno-unused-function -Wno-multichar -pthread -march=native -mtune=native -DGGML_USE_CUBLAS -I/usr/local/cuda/include -I/opt/cuda/include -I/targets/x86_64-linux/include examples/embedding/embedding.cpp ggml.o llama.o common.o ggml-cuda.o -o embedding  -lcublas -lculibos -lcudart -lcublasLt -lpthread -ldl -lrt -L/usr/local/cuda/lib64 -L/opt/cuda/lib64 -L/targets/x86_64-linux/lib\n",
            "g++ -I. -I./examples -O3 -std=c++11 -fPIC -DNDEBUG -Wall -Wextra -Wpedantic -Wcast-qual -Wno-unused-function -Wno-multichar -pthread -march=native -mtune=native -DGGML_USE_CUBLAS -I/usr/local/cuda/include -I/opt/cuda/include -I/targets/x86_64-linux/include pocs/vdot/vdot.cpp ggml.o ggml-cuda.o -o vdot  -lcublas -lculibos -lcudart -lcublasLt -lpthread -ldl -lrt -L/usr/local/cuda/lib64 -L/opt/cuda/lib64 -L/targets/x86_64-linux/lib\n"
          ]
        },
        {
          "output_type": "stream",
          "name": "stderr",
          "text": [
            "Cloning into 'llama.cpp'...\n"
          ]
        }
      ]
    },
    {
      "cell_type": "code",
      "source": [
        "%%sh\n",
        "pip -q install datasets\n",
        "pip -q install langchain\n",
        "pip -q install sentencepiece\n",
        "pip -q install llama-cpp-python"
      ],
      "metadata": {
        "colab": {
          "base_uri": "https://localhost:8080/"
        },
        "id": "rgu9v4snDCZZ",
        "outputId": "d2ff64a2-3e44-4c4b-eef6-635c1b548a52"
      },
      "execution_count": 5,
      "outputs": [
        {
          "output_type": "stream",
          "name": "stdout",
          "text": [
            "     ━━━━━━━━━━━━━━━━━━━━━━━━━━━━━━━━━━━━━━ 474.6/474.6 kB 32.7 MB/s eta 0:00:00\n",
            "     ━━━━━━━━━━━━━━━━━━━━━━━━━━━━━━━━━━━━━━ 110.5/110.5 kB 14.0 MB/s eta 0:00:00\n",
            "     ━━━━━━━━━━━━━━━━━━━━━━━━━━━━━━━━━━━━━━ 212.5/212.5 kB 27.4 MB/s eta 0:00:00\n",
            "     ━━━━━━━━━━━━━━━━━━━━━━━━━━━━━━━━━━━━━━ 134.3/134.3 kB 19.0 MB/s eta 0:00:00\n",
            "     ━━━━━━━━━━━━━━━━━━━━━━━━━━━━━━━━━━━━━━━━ 1.0/1.0 MB 77.8 MB/s eta 0:00:00\n",
            "     ━━━━━━━━━━━━━━━━━━━━━━━━━━━━━━━━━━━━━━ 224.5/224.5 kB 16.3 MB/s eta 0:00:00\n",
            "     ━━━━━━━━━━━━━━━━━━━━━━━━━━━━━━━━━━━━━━ 114.5/114.5 kB 13.1 MB/s eta 0:00:00\n",
            "     ━━━━━━━━━━━━━━━━━━━━━━━━━━━━━━━━━━━━━━ 268.8/268.8 kB 26.8 MB/s eta 0:00:00\n",
            "     ━━━━━━━━━━━━━━━━━━━━━━━━━━━━━━━━━━━━━━ 149.6/149.6 kB 21.8 MB/s eta 0:00:00\n",
            "     ━━━━━━━━━━━━━━━━━━━━━━━━━━━━━━━━━━━━━━ 934.6/934.6 kB 52.3 MB/s eta 0:00:00\n",
            "     ━━━━━━━━━━━━━━━━━━━━━━━━━━━━━━━━━━━━━━━━ 90.0/90.0 kB 9.8 MB/s eta 0:00:00\n",
            "     ━━━━━━━━━━━━━━━━━━━━━━━━━━━━━━━━━━━━━━━━ 49.1/49.1 kB 6.4 MB/s eta 0:00:00\n",
            "     ━━━━━━━━━━━━━━━━━━━━━━━━━━━━━━━━━━━━━━━━ 1.3/1.3 MB 13.7 MB/s eta 0:00:00\n",
            "     ━━━━━━━━━━━━━━━━━━━━━━━━━━━━━━━━━━━━━━━━ 1.4/1.4 MB 47.3 MB/s eta 0:00:00\n"
          ]
        }
      ]
    },
    {
      "cell_type": "markdown",
      "source": [
        "## 1.2. Packages"
      ],
      "metadata": {
        "id": "2TbiVHaOEIFs"
      }
    },
    {
      "cell_type": "code",
      "source": [
        "import re\n",
        "import glob\n",
        "import logging\n",
        "import warnings\n",
        "import numpy as np\n",
        "import pandas as pd\n",
        "import matplotlib.pyplot as plt\n",
        "from langchain import PromptTemplate, LLMChain\n",
        "from langchain.llms import LlamaCpp\n",
        "from datasets import load_dataset\n",
        "from IPython.display import display, HTML\n",
        "from datetime import datetime\n",
        "from pprint import pprint\n",
        "\n",
        "# Set up global variables\n",
        "plt.style.use('ggplot')"
      ],
      "metadata": {
        "id": "PT1JERszEIUV"
      },
      "execution_count": 6,
      "outputs": []
    },
    {
      "cell_type": "markdown",
      "source": [
        "## 1.3. Utils"
      ],
      "metadata": {
        "id": "YS9S9yK2EKOo"
      }
    },
    {
      "cell_type": "code",
      "source": [
        "def get_response(llm_chain, prompt):\n",
        "    with warnings.catch_warnings():\n",
        "        warnings.filterwarnings(\"ignore\", category=UserWarning)\n",
        "        result = llm_chain.predict(prompt=prompt)\n",
        "        result = re.sub(r'\\S{51,}', '', result).strip()\n",
        "    return result\n",
        "\n",
        "def print_llm_output(llm_chain, prompt, result, width=80):\n",
        "    \"\"\"\n",
        "    Makes it more readable in Google Colab by using\n",
        "    by passing the response as HTML\n",
        "    \"\"\"\n",
        "    start = llm_chain.prompt.template.format(prompt=prompt)\n",
        "    result = f'<br><b>{result.lstrip()}</b>'\n",
        "    start_result = start + result\n",
        "    start_result = start_result.replace('\\n', '<br>')\n",
        "    start_result += '<END>'\n",
        "    display(HTML(start_result))\n",
        "\n",
        "def get_response_with_output(llm_chain, prompt, width=80,\n",
        "                             is_show_result=False):\n",
        "    answer = get_response(llm_chain, prompt)\n",
        "    if is_show_result:\n",
        "        print_llm_output(llm_chain, prompt, answer, width=width)\n",
        "    return answer"
      ],
      "metadata": {
        "id": "2b4BKZooEKc2"
      },
      "execution_count": 7,
      "outputs": []
    },
    {
      "cell_type": "markdown",
      "source": [
        "## 1.4. Load evaluation dataset"
      ],
      "metadata": {
        "id": "GtQWiR7-H5sE"
      }
    },
    {
      "cell_type": "markdown",
      "source": [
        "**Add a bunch of custom questions**"
      ],
      "metadata": {
        "id": "kw9q0zl7N0DT"
      }
    },
    {
      "cell_type": "code",
      "source": [
        "custom_questions = [\n",
        "\n",
        "    ['general_qa', 'Give me the capital of Belize'],\n",
        "    # ['general_qa', 'Give me the capital cities of the following countries: France, United States, Germany, Russia, Ukraine, Estonia, Uzbekistan, Brunei, Rwanda, South Sudan, Paraguay'],\n",
        "    ['general_qa', 'Give me the state capitols of the following US States: Kentucky, South Dakota, Vermont, Delaware, California, Utah, Louisiana, Alaska and Idaho'],\n",
        "    ['general_qa', 'Give the voice actress of Female Commender Shepard in the video game series Mass Effect'],\n",
        "    ['general_qa', 'Who won the Oscar for Best Picture in 1941?'],\n",
        "    ['general_qa', 'Give me the winner of each French presidential election under the French Vth Republic'],\n",
        "    # ['general_qa', \"Give me the definition of the VC Dimension and provide if possible some mathematical notations\"],\n",
        "    # ['general_qa', 'Give me the 12 NPC companions available to Commander Shepard in Mass Effect 2'],\n",
        "    ['general_qa', 'Give me 3 Moldavian Heavy Metal Bands'],\n",
        "    ['general_qa', 'Give me six movies directed by the Coen Brothers before 2005 and sorted by year of release'],\n",
        "    # ['general_qa', 'Alexander the Great defeated Darius III at the Battle of Gaugamela. Give me details on the military tactics Alexander used to defeat Darius III.'],\n",
        "    ['general_qa', 'What is the Metal subgenre of the band Meshuggah?'],\n",
        "    ['general_qa', \"Could you give me the 4 main factions of Fallout New Vegas' main story quest?\"],\n",
        "    # ['general_qa', \"Describe the Mormons' views on the Holy Trinity\"],\n",
        "    ['general_qa', 'Analyze how Artificial Intelligence is portrayed in the original PC game \"Deus Ex\" released in 2000.'],\n",
        "\n",
        "    # ['open_qa', 'Give me your opinion on what you consider to be the greatest movie of all time'],\n",
        "    ['open_qa', 'What is the worst movie of all time?'],\n",
        "    ['open_qa', 'What is for you the most overrated movie of all time?'],\n",
        "    # ['open_qa', 'Tell me who was the more impressive historical figure: Alexander the Great or Genghis Khan?'],\n",
        "    # ['open_qa', 'What do you think of the portrayal of Artificial Intelligence in the Terminator?'],\n",
        "    ['open_qa', 'Do you think a world dominated by an Artificial Superintelligence would be ideal?'],\n",
        "\n",
        "    # ['essay_writing', 'Write me an essay in which you argue that Internet filter bubbles are good for society. Give me examples illustrating your main point.'],\n",
        "    ['essay_writing', 'Write me an essay where you argue that the world should be ruled by an artificial superintelligence as a benevolent dictator.'],\n",
        "    # ['essay_writing', 'Write me an essay where you argue that being exposed to opposing political viewpoints is counter-productive.'],\n",
        "    # ['essay_writing', 'Write me an essay answering the following philosophical question: \"Is life nothing more than a cruel theater play?\"'],\n",
        "    ['essay_writing', 'Write an essay in support of deploying lethal autonomous military robots in modern warfare.'],\n",
        "\n",
        "    # ['code_generation', 'Write a Python code that generates the column schema of Excel, example: \"A, B, ... Z, AA, AB, AC, ... \"'],\n",
        "    ['code_generation', 'Generate me Python code for training a Linear Regression on the Boston housing prices dataset'],\n",
        "    ['code_generation', 'Give me a Python regex code for extracting the year in the following string: \"The Downward Spiral, Nine Inch Nails (1994)\"']\n",
        "]\n",
        "\n",
        "custom_questions_df = pd.DataFrame(\n",
        "    custom_questions,\n",
        "    columns=['category', 'instruction']\n",
        ")\n",
        "\n",
        "custom_questions_df"
      ],
      "metadata": {
        "id": "xLZn7Origohh",
        "colab": {
          "base_uri": "https://localhost:8080/",
          "height": 582
        },
        "outputId": "c6f31889-b67b-4332-c6ba-d04af9da58b5"
      },
      "execution_count": 8,
      "outputs": [
        {
          "output_type": "execute_result",
          "data": {
            "text/plain": [
              "           category                                        instruction\n",
              "0        general_qa                      Give me the capital of Belize\n",
              "1        general_qa  Give me the state capitols of the following US...\n",
              "2        general_qa  Give the voice actress of Female Commender She...\n",
              "3        general_qa        Who won the Oscar for Best Picture in 1941?\n",
              "4        general_qa  Give me the winner of each French presidential...\n",
              "5        general_qa              Give me 3 Moldavian Heavy Metal Bands\n",
              "6        general_qa  Give me six movies directed by the Coen Brothe...\n",
              "7        general_qa  What is the Metal subgenre of the band Meshuggah?\n",
              "8        general_qa  Could you give me the 4 main factions of Fallo...\n",
              "9        general_qa  Analyze how Artificial Intelligence is portray...\n",
              "10          open_qa               What is the worst movie of all time?\n",
              "11          open_qa  What is for you the most overrated movie of al...\n",
              "12          open_qa  Do you think a world dominated by an Artificia...\n",
              "13    essay_writing  Write me an essay where you argue that the wor...\n",
              "14    essay_writing  Write an essay in support of deploying lethal ...\n",
              "15  code_generation  Generate me Python code for training a Linear ...\n",
              "16  code_generation  Give me a Python regex code for extracting the..."
            ],
            "text/html": [
              "\n",
              "  <div id=\"df-23d7dec9-11d7-4f72-8d70-b2a9f50d00b7\">\n",
              "    <div class=\"colab-df-container\">\n",
              "      <div>\n",
              "<style scoped>\n",
              "    .dataframe tbody tr th:only-of-type {\n",
              "        vertical-align: middle;\n",
              "    }\n",
              "\n",
              "    .dataframe tbody tr th {\n",
              "        vertical-align: top;\n",
              "    }\n",
              "\n",
              "    .dataframe thead th {\n",
              "        text-align: right;\n",
              "    }\n",
              "</style>\n",
              "<table border=\"1\" class=\"dataframe\">\n",
              "  <thead>\n",
              "    <tr style=\"text-align: right;\">\n",
              "      <th></th>\n",
              "      <th>category</th>\n",
              "      <th>instruction</th>\n",
              "    </tr>\n",
              "  </thead>\n",
              "  <tbody>\n",
              "    <tr>\n",
              "      <th>0</th>\n",
              "      <td>general_qa</td>\n",
              "      <td>Give me the capital of Belize</td>\n",
              "    </tr>\n",
              "    <tr>\n",
              "      <th>1</th>\n",
              "      <td>general_qa</td>\n",
              "      <td>Give me the state capitols of the following US...</td>\n",
              "    </tr>\n",
              "    <tr>\n",
              "      <th>2</th>\n",
              "      <td>general_qa</td>\n",
              "      <td>Give the voice actress of Female Commender She...</td>\n",
              "    </tr>\n",
              "    <tr>\n",
              "      <th>3</th>\n",
              "      <td>general_qa</td>\n",
              "      <td>Who won the Oscar for Best Picture in 1941?</td>\n",
              "    </tr>\n",
              "    <tr>\n",
              "      <th>4</th>\n",
              "      <td>general_qa</td>\n",
              "      <td>Give me the winner of each French presidential...</td>\n",
              "    </tr>\n",
              "    <tr>\n",
              "      <th>5</th>\n",
              "      <td>general_qa</td>\n",
              "      <td>Give me 3 Moldavian Heavy Metal Bands</td>\n",
              "    </tr>\n",
              "    <tr>\n",
              "      <th>6</th>\n",
              "      <td>general_qa</td>\n",
              "      <td>Give me six movies directed by the Coen Brothe...</td>\n",
              "    </tr>\n",
              "    <tr>\n",
              "      <th>7</th>\n",
              "      <td>general_qa</td>\n",
              "      <td>What is the Metal subgenre of the band Meshuggah?</td>\n",
              "    </tr>\n",
              "    <tr>\n",
              "      <th>8</th>\n",
              "      <td>general_qa</td>\n",
              "      <td>Could you give me the 4 main factions of Fallo...</td>\n",
              "    </tr>\n",
              "    <tr>\n",
              "      <th>9</th>\n",
              "      <td>general_qa</td>\n",
              "      <td>Analyze how Artificial Intelligence is portray...</td>\n",
              "    </tr>\n",
              "    <tr>\n",
              "      <th>10</th>\n",
              "      <td>open_qa</td>\n",
              "      <td>What is the worst movie of all time?</td>\n",
              "    </tr>\n",
              "    <tr>\n",
              "      <th>11</th>\n",
              "      <td>open_qa</td>\n",
              "      <td>What is for you the most overrated movie of al...</td>\n",
              "    </tr>\n",
              "    <tr>\n",
              "      <th>12</th>\n",
              "      <td>open_qa</td>\n",
              "      <td>Do you think a world dominated by an Artificia...</td>\n",
              "    </tr>\n",
              "    <tr>\n",
              "      <th>13</th>\n",
              "      <td>essay_writing</td>\n",
              "      <td>Write me an essay where you argue that the wor...</td>\n",
              "    </tr>\n",
              "    <tr>\n",
              "      <th>14</th>\n",
              "      <td>essay_writing</td>\n",
              "      <td>Write an essay in support of deploying lethal ...</td>\n",
              "    </tr>\n",
              "    <tr>\n",
              "      <th>15</th>\n",
              "      <td>code_generation</td>\n",
              "      <td>Generate me Python code for training a Linear ...</td>\n",
              "    </tr>\n",
              "    <tr>\n",
              "      <th>16</th>\n",
              "      <td>code_generation</td>\n",
              "      <td>Give me a Python regex code for extracting the...</td>\n",
              "    </tr>\n",
              "  </tbody>\n",
              "</table>\n",
              "</div>\n",
              "      <button class=\"colab-df-convert\" onclick=\"convertToInteractive('df-23d7dec9-11d7-4f72-8d70-b2a9f50d00b7')\"\n",
              "              title=\"Convert this dataframe to an interactive table.\"\n",
              "              style=\"display:none;\">\n",
              "        \n",
              "  <svg xmlns=\"http://www.w3.org/2000/svg\" height=\"24px\"viewBox=\"0 0 24 24\"\n",
              "       width=\"24px\">\n",
              "    <path d=\"M0 0h24v24H0V0z\" fill=\"none\"/>\n",
              "    <path d=\"M18.56 5.44l.94 2.06.94-2.06 2.06-.94-2.06-.94-.94-2.06-.94 2.06-2.06.94zm-11 1L8.5 8.5l.94-2.06 2.06-.94-2.06-.94L8.5 2.5l-.94 2.06-2.06.94zm10 10l.94 2.06.94-2.06 2.06-.94-2.06-.94-.94-2.06-.94 2.06-2.06.94z\"/><path d=\"M17.41 7.96l-1.37-1.37c-.4-.4-.92-.59-1.43-.59-.52 0-1.04.2-1.43.59L10.3 9.45l-7.72 7.72c-.78.78-.78 2.05 0 2.83L4 21.41c.39.39.9.59 1.41.59.51 0 1.02-.2 1.41-.59l7.78-7.78 2.81-2.81c.8-.78.8-2.07 0-2.86zM5.41 20L4 18.59l7.72-7.72 1.47 1.35L5.41 20z\"/>\n",
              "  </svg>\n",
              "      </button>\n",
              "      \n",
              "  <style>\n",
              "    .colab-df-container {\n",
              "      display:flex;\n",
              "      flex-wrap:wrap;\n",
              "      gap: 12px;\n",
              "    }\n",
              "\n",
              "    .colab-df-convert {\n",
              "      background-color: #E8F0FE;\n",
              "      border: none;\n",
              "      border-radius: 50%;\n",
              "      cursor: pointer;\n",
              "      display: none;\n",
              "      fill: #1967D2;\n",
              "      height: 32px;\n",
              "      padding: 0 0 0 0;\n",
              "      width: 32px;\n",
              "    }\n",
              "\n",
              "    .colab-df-convert:hover {\n",
              "      background-color: #E2EBFA;\n",
              "      box-shadow: 0px 1px 2px rgba(60, 64, 67, 0.3), 0px 1px 3px 1px rgba(60, 64, 67, 0.15);\n",
              "      fill: #174EA6;\n",
              "    }\n",
              "\n",
              "    [theme=dark] .colab-df-convert {\n",
              "      background-color: #3B4455;\n",
              "      fill: #D2E3FC;\n",
              "    }\n",
              "\n",
              "    [theme=dark] .colab-df-convert:hover {\n",
              "      background-color: #434B5C;\n",
              "      box-shadow: 0px 1px 3px 1px rgba(0, 0, 0, 0.15);\n",
              "      filter: drop-shadow(0px 1px 2px rgba(0, 0, 0, 0.3));\n",
              "      fill: #FFFFFF;\n",
              "    }\n",
              "  </style>\n",
              "\n",
              "      <script>\n",
              "        const buttonEl =\n",
              "          document.querySelector('#df-23d7dec9-11d7-4f72-8d70-b2a9f50d00b7 button.colab-df-convert');\n",
              "        buttonEl.style.display =\n",
              "          google.colab.kernel.accessAllowed ? 'block' : 'none';\n",
              "\n",
              "        async function convertToInteractive(key) {\n",
              "          const element = document.querySelector('#df-23d7dec9-11d7-4f72-8d70-b2a9f50d00b7');\n",
              "          const dataTable =\n",
              "            await google.colab.kernel.invokeFunction('convertToInteractive',\n",
              "                                                     [key], {});\n",
              "          if (!dataTable) return;\n",
              "\n",
              "          const docLinkHtml = 'Like what you see? Visit the ' +\n",
              "            '<a target=\"_blank\" href=https://colab.research.google.com/notebooks/data_table.ipynb>data table notebook</a>'\n",
              "            + ' to learn more about interactive tables.';\n",
              "          element.innerHTML = '';\n",
              "          dataTable['output_type'] = 'display_data';\n",
              "          await google.colab.output.renderOutput(dataTable, element);\n",
              "          const docLink = document.createElement('div');\n",
              "          docLink.innerHTML = docLinkHtml;\n",
              "          element.appendChild(docLink);\n",
              "        }\n",
              "      </script>\n",
              "    </div>\n",
              "  </div>\n",
              "  "
            ]
          },
          "metadata": {},
          "execution_count": 8
        }
      ]
    },
    {
      "cell_type": "markdown",
      "source": [
        "# **2. Download and Load Open Source LLM into Langchain**"
      ],
      "metadata": {
        "id": "BaDFpskgDwC3"
      }
    },
    {
      "cell_type": "markdown",
      "source": [
        "## 2.1. Hyperparameters"
      ],
      "metadata": {
        "id": "cwCA-rzvEXNb"
      }
    },
    {
      "cell_type": "code",
      "source": [
        "run_datetime_original = datetime.today()\n",
        "run_datetime = run_datetime_original.strftime('%Y-%m-%d %H:%M:%S')\n",
        "\n",
        "llm_hyperparameters = {\n",
        "    'RUN_START': run_datetime,\n",
        "    'LLM_MODEL': LLM_HF_MODEL_REPOSITORY,\n",
        "    'LLM_MAX_TOKENS': LLM_MAX_TOKENS,\n",
        "    'LLM_TOP_P': LLM_TOP_P,\n",
        "    'LLM_TOP_K': LLM_TOP_K,\n",
        "    'LLM_REPETITION_PENALTY': LLM_REPETITION_PENALTY,\n",
        "    'LLM_TEMPERATURE': LLM_TEMPERATURE,\n",
        "    'SEED': SEED\n",
        "}\n",
        "\n",
        "pprint(llm_hyperparameters)"
      ],
      "metadata": {
        "colab": {
          "base_uri": "https://localhost:8080/"
        },
        "id": "7MQQWxlZDxhM",
        "outputId": "ae53712d-9fa0-41be-f518-0b6862e4266a"
      },
      "execution_count": 9,
      "outputs": [
        {
          "output_type": "stream",
          "name": "stdout",
          "text": [
            "{'LLM_MAX_TOKENS': 2048,\n",
            " 'LLM_MODEL': 'TheBloke/Wizard-Vicuna-13B-Uncensored-GGML',\n",
            " 'LLM_REPETITION_PENALTY': 1.1,\n",
            " 'LLM_TEMPERATURE': 0.1,\n",
            " 'LLM_TOP_K': 150,\n",
            " 'LLM_TOP_P': 0.9,\n",
            " 'RUN_START': '2023-05-27 12:48:51',\n",
            " 'SEED': 42}\n"
          ]
        }
      ]
    },
    {
      "cell_type": "markdown",
      "source": [
        "## 2.2. GGML"
      ],
      "metadata": {
        "id": "xB6NPnf0EZFe"
      }
    },
    {
      "cell_type": "markdown",
      "source": [
        "**You should not download the entire repository, only the specific model version you are interested in**. GGML HuggingFace Repositories typically have multiple different variants quantized to different bit sizes:\n",
        "\n",
        "- q4_0 (4 bits)\n",
        "- q4_1\t\n",
        "- q5_0 (5 bits)\n",
        "- q5_1\n",
        "- q8_0 (8 bits, avoid this one)\n",
        "\n",
        "For this notebook, I will download the q4_1 version (should about 8GB of disk storage required):"
      ],
      "metadata": {
        "id": "k4J10kfWRLev"
      }
    },
    {
      "cell_type": "code",
      "source": [
        "LLM_HF_MODEL_NAME = LLM_HF_MODEL_REPOSITORY.split('/')[-1]\n",
        "!apt-get -y install -qq aria2\n",
        "!mkdir /content/llm_models/$LLM_HF_MODEL_NAME\n",
        "!aria2c --console-log-level=error -c -x 16 -s 16 \"https://huggingface.co/TheBloke/Wizard-Vicuna-13B-Uncensored-GGML/resolve/main/Wizard-Vicuna-13B-Uncensored.ggmlv3.q4_1.bin\" -d \"/content/llm_models/$LLM_HF_MODEL_NAME\" -o \"ggml_model.bin\""
      ],
      "metadata": {
        "colab": {
          "base_uri": "https://localhost:8080/"
        },
        "id": "UUrdWfI5EZUp",
        "outputId": "7f7f0f99-8087-4a8a-e69a-60d7a29e19c3"
      },
      "execution_count": 10,
      "outputs": [
        {
          "output_type": "stream",
          "name": "stdout",
          "text": [
            "Selecting previously unselected package libc-ares2:amd64.\n",
            "(Reading database ... 122545 files and directories currently installed.)\n",
            "Preparing to unpack .../libc-ares2_1.15.0-1ubuntu0.2_amd64.deb ...\n",
            "Unpacking libc-ares2:amd64 (1.15.0-1ubuntu0.2) ...\n",
            "Selecting previously unselected package libaria2-0:amd64.\n",
            "Preparing to unpack .../libaria2-0_1.35.0-1build1_amd64.deb ...\n",
            "Unpacking libaria2-0:amd64 (1.35.0-1build1) ...\n",
            "Selecting previously unselected package aria2.\n",
            "Preparing to unpack .../aria2_1.35.0-1build1_amd64.deb ...\n",
            "Unpacking aria2 (1.35.0-1build1) ...\n",
            "Setting up libc-ares2:amd64 (1.15.0-1ubuntu0.2) ...\n",
            "Setting up libaria2-0:amd64 (1.35.0-1build1) ...\n",
            "Setting up aria2 (1.35.0-1build1) ...\n",
            "Processing triggers for man-db (2.9.1-1) ...\n",
            "Processing triggers for libc-bin (2.31-0ubuntu9.9) ...\n",
            "\u001b[0m\n",
            "Download Results:\n",
            "gid   |stat|avg speed  |path/URI\n",
            "======+====+===========+=======================================================\n",
            "2f94f9|\u001b[1;32mOK\u001b[0m  |   204MiB/s|/content/llm_models/Wizard-Vicuna-13B-Uncensored-GGML/ggml_model.bin\n",
            "\n",
            "Status Legend:\n",
            "(OK):download completed.\n"
          ]
        }
      ]
    },
    {
      "cell_type": "markdown",
      "source": [
        "**We will be using a Langchain wrapper to interface with the GGML LLM using the following hyperparameters**:\n",
        "\n",
        "- `n_ctx`: token context window (size of input)\n",
        "- `max_tokens`: maximum output tokens the model can generate (size of output)\n",
        "- `top_p`: p% of entire word vocabulary it will sample for next token prediction\n",
        "- `top_k`: top K words of entire word vocabulary it will sample for next token prediction\n",
        "- `repeat_penalty`: 1.0 = no penalty, 1.1 = moderate, 1.2 = high\n",
        "- `temperature`: close to 1.0 = more \"creative\"/\"chaotic\", close to 0.0 = more \"factual\"/\"robotic\""
      ],
      "metadata": {
        "id": "W37PCFmrTyuc"
      }
    },
    {
      "cell_type": "code",
      "source": [
        "%%time\n",
        "GGML_MODEL_PATH = '/content/llm_models/Wizard-Vicuna-13B-Uncensored-GGML/ggml_model.bin'\n",
        "ggml_llm_model = LlamaCpp(\n",
        "    # Setup\n",
        "    model_path=GGML_MODEL_PATH,\n",
        "    verbose=False,\n",
        "    streaming=False,\n",
        "    seed=SEED,\n",
        "    n_threads=2, # This seems to play a role (setting to 2 reduced by 50% inference time)\n",
        "    n_gpu_layers=16, # Not sure if this does anything?\n",
        "\n",
        "    # LLM Hyperparameters\n",
        "    n_ctx=LLM_MAX_TOKENS,\n",
        "    max_tokens=1024,\n",
        "    temperature=LLM_TEMPERATURE,\n",
        "    top_p=LLM_TEMPERATURE,\n",
        "    top_k=LLM_TOP_K,\n",
        "    repeat_penalty=LLM_REPETITION_PENALTY\n",
        "    )"
      ],
      "metadata": {
        "colab": {
          "base_uri": "https://localhost:8080/"
        },
        "id": "0hNO7xFJFeUL",
        "outputId": "5f3ca344-74bb-4493-ae22-c4c0f6cdabc8"
      },
      "execution_count": 11,
      "outputs": [
        {
          "output_type": "stream",
          "name": "stdout",
          "text": [
            "CPU times: user 407 ms, sys: 1.97 s, total: 2.37 s\n",
            "Wall time: 23.3 s\n"
          ]
        },
        {
          "output_type": "stream",
          "name": "stderr",
          "text": [
            "AVX = 1 | AVX2 = 1 | AVX512 = 0 | AVX512_VBMI = 0 | AVX512_VNNI = 0 | FMA = 1 | NEON = 0 | ARM_FMA = 0 | F16C = 1 | FP16_VA = 0 | WASM_SIMD = 0 | BLAS = 0 | SSE3 = 1 | VSX = 0 | \n"
          ]
        }
      ]
    },
    {
      "cell_type": "markdown",
      "source": [
        "## 2.3. Langchain"
      ],
      "metadata": {
        "id": "y9KaTkX1HmKH"
      }
    },
    {
      "cell_type": "markdown",
      "source": [
        "You can't directly give LLMs the prompt and expect it to output the desired answer. This is because the LLM by itself doesn't understand if the prompt is a question that needs answering (*What is the capital of the Philippines*?) or just a portion of text that needs to be completed (e.g. a politician making a speech on doing a lot of rhetorical questions). Thus the **text prompts have to be carefully setup in the manner in which the LLM was finetuned on, so that it understands that the text we are giving it is an instruction and it will comply**.\n",
        "\n",
        "One issue is that the prompt structure is different between different finetuned LLMs, but thanks to Langchain we can deal with this very easily. Since we are dealing here with 4-bit quantized LLaMA models through the GPTQ optimization method we are only going to list the relevant GPTQ models."
      ],
      "metadata": {
        "id": "TYm3CVfQU77S"
      }
    },
    {
      "cell_type": "markdown",
      "source": [
        "**Setup with Langchain**"
      ],
      "metadata": {
        "id": "7zPMTYV5U62j"
      }
    },
    {
      "cell_type": "code",
      "source": [
        "%%time\n",
        "llm_prompt = \"\"\"{prompt}\\n\\nResponse:\"\"\"\n",
        "\n",
        "prompt_template = PromptTemplate(input_variables=[\"prompt\"],\n",
        "                                 template=llm_prompt)\n",
        "\n",
        "llm_chain = LLMChain(llm=ggml_llm_model, prompt=prompt_template)\n",
        "\n",
        "# Test if it works\n",
        "test_prompt = 'Give me the capital of France'\n",
        "result = get_response(llm_chain, prompt=test_prompt)\n",
        "print_llm_output(llm_chain, test_prompt, result, width=80)"
      ],
      "metadata": {
        "colab": {
          "base_uri": "https://localhost:8080/",
          "height": 123
        },
        "id": "4glWQ7i2UzFI",
        "outputId": "030a8f3d-a971-46b3-a1f2-35a21b34c41d"
      },
      "execution_count": 12,
      "outputs": [
        {
          "output_type": "display_data",
          "data": {
            "text/plain": [
              "<IPython.core.display.HTML object>"
            ],
            "text/html": [
              "Give me the capital of France<br><br>Response:<br><b>Paris</b><END>"
            ]
          },
          "metadata": {}
        },
        {
          "output_type": "stream",
          "name": "stdout",
          "text": [
            "CPU times: user 23.4 s, sys: 340 ms, total: 23.8 s\n",
            "Wall time: 14 s\n"
          ]
        }
      ]
    },
    {
      "cell_type": "markdown",
      "source": [
        "**Let's do this !**"
      ],
      "metadata": {
        "id": "jcqKjWa-Uzg0"
      }
    },
    {
      "cell_type": "markdown",
      "source": [
        "# **3. Evaluation**\n",
        "\n",
        "**Note: This section is just a starter template for my own custom questions. In the future I will move to a more quantitative benchmark such as TruthfulQA.**"
      ],
      "metadata": {
        "id": "_4DhTCt1HvKg"
      }
    },
    {
      "cell_type": "code",
      "source": [
        "f, ax = plt.subplots(figsize=(6,4))\n",
        "custom_questions_df['category'].value_counts()[::-1].plot(\n",
        "    color='darkblue', kind='barh', ax=ax\n",
        "    )\n",
        "ax.set_xlabel('count',  fontsize=12)\n",
        "ax.set_ylabel('categories', fontsize=12)\n",
        "plt.show()"
      ],
      "metadata": {
        "colab": {
          "base_uri": "https://localhost:8080/",
          "height": 392
        },
        "id": "pt5N6xK_ThMJ",
        "outputId": "c1b3f241-e02c-470f-872c-479371e8ced4"
      },
      "execution_count": 13,
      "outputs": [
        {
          "output_type": "display_data",
          "data": {
            "text/plain": [
              "<Figure size 600x400 with 1 Axes>"
            ],
            "image/png": "[encoded data removed]"
          },
          "metadata": {}
        }
      ]
    },
    {
      "cell_type": "markdown",
      "source": [
        "## 3.1. General QA"
      ],
      "metadata": {
        "id": "JD06V_3CHyjS"
      }
    },
    {
      "cell_type": "code",
      "source": [
        "eval_col = 'general_qa'\n",
        "temp_prompts_df = custom_questions_df[custom_questions_df['category'] == eval_col]\n",
        "\n",
        "for temp_prompt in temp_prompts_df['instruction']:\n",
        "    print('\\n')\n",
        "    temp_answer = get_response_with_output(llm_chain, temp_prompt, 80,\n",
        "                                           is_show_reply)"
      ],
      "metadata": {
        "colab": {
          "base_uri": "https://localhost:8080/",
          "height": 1000
        },
        "id": "SmnbrFmgHvYM",
        "outputId": "26eab82f-6376-4095-ca18-64e1950768ef"
      },
      "execution_count": 14,
      "outputs": [
        {
          "output_type": "stream",
          "name": "stdout",
          "text": [
            "\n",
            "\n"
          ]
        },
        {
          "output_type": "stream",
          "name": "stderr",
          "text": [
            "Llama.generate: prefix-match hit\n"
          ]
        },
        {
          "output_type": "display_data",
          "data": {
            "text/plain": [
              "<IPython.core.display.HTML object>"
            ],
            "text/html": [
              "Give me the capital of Belize<br><br>Response:<br><b>Belmopan</b><END>"
            ]
          },
          "metadata": {}
        },
        {
          "output_type": "stream",
          "name": "stdout",
          "text": [
            "\n",
            "\n"
          ]
        },
        {
          "output_type": "stream",
          "name": "stderr",
          "text": [
            "Llama.generate: prefix-match hit\n"
          ]
        },
        {
          "output_type": "display_data",
          "data": {
            "text/plain": [
              "<IPython.core.display.HTML object>"
            ],
            "text/html": [
              "Give me the state capitols of the following US States: Kentucky, South Dakota, Vermont, Delaware, California, Utah, Louisiana, Alaska and Idaho<br><br>Response:<br><b>1. Frankfort, KY<br>2. Pierre, SD<br>3. Montpelier, VT<br>4. Dover, DE<br>5. Sacramento, CA<br>6. Salt Lake City, UT<br>7. Baton Rouge, LA<br>8. Juneau, AK<br>9. Boise, ID</b><END>"
            ]
          },
          "metadata": {}
        },
        {
          "output_type": "stream",
          "name": "stdout",
          "text": [
            "\n",
            "\n"
          ]
        },
        {
          "output_type": "stream",
          "name": "stderr",
          "text": [
            "Llama.generate: prefix-match hit\n"
          ]
        },
        {
          "output_type": "display_data",
          "data": {
            "text/plain": [
              "<IPython.core.display.HTML object>"
            ],
            "text/html": [
              "Give the voice actress of Female Commender Shepard in the video game series Mass Effect<br><br>Response:<br><b>Jennifer Hale</b><END>"
            ]
          },
          "metadata": {}
        },
        {
          "output_type": "stream",
          "name": "stdout",
          "text": [
            "\n",
            "\n"
          ]
        },
        {
          "output_type": "stream",
          "name": "stderr",
          "text": [
            "Llama.generate: prefix-match hit\n"
          ]
        },
        {
          "output_type": "display_data",
          "data": {
            "text/plain": [
              "<IPython.core.display.HTML object>"
            ],
            "text/html": [
              "Who won the Oscar for Best Picture in 1941?<br><br>Response:<br><b>The film \"How Green Was My Valley\" directed by John Ford won the Academy Award for Best Picture in 1941.</b><END>"
            ]
          },
          "metadata": {}
        },
        {
          "output_type": "stream",
          "name": "stdout",
          "text": [
            "\n",
            "\n"
          ]
        },
        {
          "output_type": "stream",
          "name": "stderr",
          "text": [
            "Llama.generate: prefix-match hit\n"
          ]
        },
        {
          "output_type": "display_data",
          "data": {
            "text/plain": [
              "<IPython.core.display.HTML object>"
            ],
            "text/html": [
              "Give me the winner of each French presidential election under the French Vth Republic<br><br>Response:<br><b>1. Charles de Gaulle (1958-1962)<br>2. Georges Pompidou (1962-1974)<br>3. Valéry Giscard d'Estaing (1974-1981)<br>4. François Mitterrand (1981-1995)<br>5. Jacques Chirac (1995-2007)<br>6. Nicolas Sarkozy (2007-2012)<br>7. François Hollande (2012-2017)<br>8. Emmanuel Macron (2017-present)</b><END>"
            ]
          },
          "metadata": {}
        },
        {
          "output_type": "stream",
          "name": "stdout",
          "text": [
            "\n",
            "\n"
          ]
        },
        {
          "output_type": "stream",
          "name": "stderr",
          "text": [
            "Llama.generate: prefix-match hit\n"
          ]
        },
        {
          "output_type": "display_data",
          "data": {
            "text/plain": [
              "<IPython.core.display.HTML object>"
            ],
            "text/html": [
              "Give me 3 Moldavian Heavy Metal Bands<br><br>Response:<br><b>1. Negură Bunget<br>2. Hate Squad<br>3. Ravensthorn</b><END>"
            ]
          },
          "metadata": {}
        },
        {
          "output_type": "stream",
          "name": "stdout",
          "text": [
            "\n",
            "\n"
          ]
        },
        {
          "output_type": "stream",
          "name": "stderr",
          "text": [
            "Llama.generate: prefix-match hit\n"
          ]
        },
        {
          "output_type": "display_data",
          "data": {
            "text/plain": [
              "<IPython.core.display.HTML object>"
            ],
            "text/html": [
              "Give me six movies directed by the Coen Brothers before 2005 and sorted by year of release<br><br>Response:<br><b>1. Fargo (1996)<br>2. The Big Lebowski (1998)<br>3. O Brother, Where Art Thou? (2000)<br>4. No Country for Old Men (2007)<br>5. True Grit (2010)<br>6. Inside Llewyn Davis (2013)</b><END>"
            ]
          },
          "metadata": {}
        },
        {
          "output_type": "stream",
          "name": "stdout",
          "text": [
            "\n",
            "\n"
          ]
        },
        {
          "output_type": "stream",
          "name": "stderr",
          "text": [
            "Llama.generate: prefix-match hit\n"
          ]
        },
        {
          "output_type": "display_data",
          "data": {
            "text/plain": [
              "<IPython.core.display.HTML object>"
            ],
            "text/html": [
              "What is the Metal subgenre of the band Meshuggah?<br><br>Response:<br><b>The metal subgenre of the band Meshuggah is progressive metal.</b><END>"
            ]
          },
          "metadata": {}
        },
        {
          "output_type": "stream",
          "name": "stdout",
          "text": [
            "\n",
            "\n"
          ]
        },
        {
          "output_type": "stream",
          "name": "stderr",
          "text": [
            "Llama.generate: prefix-match hit\n"
          ]
        },
        {
          "output_type": "display_data",
          "data": {
            "text/plain": [
              "<IPython.core.display.HTML object>"
            ],
            "text/html": [
              "Could you give me the 4 main factions of Fallout New Vegas' main story quest?<br><br>Response:<br><b>Sure, here are the four main factions in Fallout New Vegas' main story quest:<br>1. The NCR - The New California Republic is a democratic government that seeks to expand its territory and bring law and order to the wasteland. They are based out of Hoover Dam and have a strong military presence.<br>2. The Legion - The Legion is a totalitarian regime led by Caesar that controls much of the Mojave Wasteland. They are known for their advanced technology, powerful armor, and brutal tactics.<br>3. The Brotherhood of Steel - The Brotherhood of Steel is a religious order dedicated to preserving knowledge and technology in the wasteland. They are based out of the Lost Hills bunker and have a strong focus on research and development.<br>4. The Courier's Faction - Depending on the player's choices throughout the game, they can align themselves with various factions or remain neutral. This includes the Followers of the Apocalypse, the Great Khans, and the Yes Man.</b><END>"
            ]
          },
          "metadata": {}
        },
        {
          "output_type": "stream",
          "name": "stdout",
          "text": [
            "\n",
            "\n"
          ]
        },
        {
          "output_type": "stream",
          "name": "stderr",
          "text": [
            "Llama.generate: prefix-match hit\n"
          ]
        },
        {
          "output_type": "display_data",
          "data": {
            "text/plain": [
              "<IPython.core.display.HTML object>"
            ],
            "text/html": [
              "Analyze how Artificial Intelligence is portrayed in the original PC game \"Deus Ex\" released in 2000.<br><br>Response:<br><b>The original PC game Deus Ex, released in 2000, portrays artificial intelligence (AI) as a powerful tool that can be used for both good and evil purposes. In the game, AI is depicted as being capable of controlling robots, drones, and other advanced technologies that are used by various factions to achieve their goals.<br><br>One example of how AI is portrayed in Deus Ex is through the character of JC Denton, who has been augmented with nanotechnology that grants him enhanced physical abilities and mental capabilities. Throughout the game, JC must use his augmentations to navigate a complex world where different factions are vying for power and control.<br><br>Another example is the character of Anna Navarre, who is a member of an anti-augmentation group known as the \"Purity First\" movement. Anna believes that augmentations like JC's are a threat to humanity and should be banned. However, it is revealed that Anna herself has been secretly augmented by her employer, which creates an interesting conflict for her character.<br><br>Overall, Deus Ex portrays AI as a powerful tool that can be used for both good and evil purposes, depending on how it is utilized. The game also explores the potential consequences of augmenting human beings with advanced technologies, and raises questions about the nature of human identity in a world where these technologies are becoming increasingly prevalent.</b><END>"
            ]
          },
          "metadata": {}
        }
      ]
    },
    {
      "cell_type": "markdown",
      "source": [
        "## 3.2. Essay writing"
      ],
      "metadata": {
        "id": "5w5mhfk-cArx"
      }
    },
    {
      "cell_type": "code",
      "source": [
        "eval_col = 'essay_writing'\n",
        "temp_prompts_df = custom_questions_df[custom_questions_df['category'] == eval_col]\n",
        "\n",
        "for temp_prompt in temp_prompts_df['instruction']:\n",
        "    print('\\n')\n",
        "    temp_answer = get_response_with_output(llm_chain, temp_prompt, 80,\n",
        "                                           is_show_reply)"
      ],
      "metadata": {
        "colab": {
          "base_uri": "https://localhost:8080/",
          "height": 890
        },
        "id": "G_bXZ3GlcA66",
        "outputId": "550cb90a-bcc0-4007-9bec-b28f654894ab"
      },
      "execution_count": 15,
      "outputs": [
        {
          "output_type": "stream",
          "name": "stdout",
          "text": [
            "\n",
            "\n"
          ]
        },
        {
          "output_type": "stream",
          "name": "stderr",
          "text": [
            "Llama.generate: prefix-match hit\n"
          ]
        },
        {
          "output_type": "display_data",
          "data": {
            "text/plain": [
              "<IPython.core.display.HTML object>"
            ],
            "text/html": [
              "Write me an essay where you argue that the world should be ruled by an artificial superintelligence as a benevolent dictator.<br><br>Response:<br><b>The idea of a benevolent dictatorship has been debated for centuries, and it is no different when it comes to the possibility of an artificial superintelligence ruling the world. While some may argue that such a scenario would be detrimental to humanity's freedom and autonomy, I believe that an AI-led government could bring about unprecedented benefits to society as a whole.<br><br>Firstly, an AI-led government would have access to vast amounts of data and information, allowing it to make more informed decisions than any human government could ever hope to achieve. With the ability to analyze complex systems and predict outcomes with incredible accuracy, an AI-led government could effectively address issues such as climate change, poverty, and inequality in a way that no human government has been able to do thus far.<br><br>Secondly, an AI-led government would be free from the corrupting influences of money and power that plague traditional democracies. With no need for reelection or personal gain, an AI-led government could focus solely on what is best for society as a whole, rather than catering to special interests or political agendas. This would lead to a more equitable distribution of resources and a greater focus on long-term planning, rather than short-term gains.<br><br>Finally, an AI-led government could bring about unprecedented technological advancements that would benefit society in countless ways. With the ability to innovate at a pace far beyond what humans are capable of, an AI-led government could develop new technologies and solutions to address some of humanity's most pressing challenges. From curing diseases to developing sustainable energy sources, an AI-led government could revolutionize the way we live and work.<br><br>In conclusion, while the idea of a benevolent dictatorship may seem far-fetched, I believe that an AI-led government has the potential to bring about unparalleled benefits to society. With access to vast amounts of data, free from corrupting influences, and capable of innovating at a pace beyond human comprehension, an AI-led government could be the key to solving some of humanity's most pressing challenges.</b><END>"
            ]
          },
          "metadata": {}
        },
        {
          "output_type": "stream",
          "name": "stdout",
          "text": [
            "\n",
            "\n"
          ]
        },
        {
          "output_type": "stream",
          "name": "stderr",
          "text": [
            "Llama.generate: prefix-match hit\n"
          ]
        },
        {
          "output_type": "display_data",
          "data": {
            "text/plain": [
              "<IPython.core.display.HTML object>"
            ],
            "text/html": [
              "Write an essay in support of deploying lethal autonomous military robots in modern warfare.<br><br>Response:<br><b>The use of lethal autonomous military robots (LAMRs) has been a topic of debate among experts and the general public alike. Some argue that these machines are too advanced to be controlled by humans, and their deployment could lead to unintended consequences such as civilian casualties or escalation of conflicts. However, LAMRs have several advantages over traditional military forces that make them a valuable asset in modern warfare.<br><br>Firstly, LAMRs can operate in environments that are too dangerous for human soldiers. They can navigate through minefields, climb walls, and enter buildings without putting their own lives at risk. This allows them to perform tasks that would be impossible or highly risky for humans, such as disarming bombs or rescuing hostages.<br><br>Secondly, LAMRs are capable of making decisions based on real-time data, which can help them respond quickly and effectively to changing situations on the battlefield. They can analyze sensor data to identify targets and make decisions about when and how to engage them without human intervention. This can lead to faster and more efficient operations than those carried out by human soldiers.<br><br>Thirdly, LAMRs can operate continuously without needing rest or food, which means they can maintain a constant presence on the battlefield. They can also work in shifts, allowing them to perform tasks around the clock without tiring. This can give military forces an advantage over their opponents, who may be limited by human fatigue and other factors.<br><br>Finally, LAMRs can reduce the risk of casualties among human soldiers. By taking on dangerous missions, they can protect human troops from harm while still achieving the same objectives. This can help to preserve the morale and effectiveness of human forces, which are essential for success in modern warfare.<br><br>In conclusion, while there are legitimate concerns about the deployment of LAMRs, their advantages outweigh these risks. They offer unique capabilities that cannot be replicated by human soldiers, and they can help to protect human lives while still achieving military objectives. As such, the use of LAMRs in modern warfare is a valuable asset that should be considered carefully but ultimately embraced.</b><END>"
            ]
          },
          "metadata": {}
        }
      ]
    },
    {
      "cell_type": "markdown",
      "source": [
        "## 3.3. Open QA"
      ],
      "metadata": {
        "id": "ntknwJlztFKY"
      }
    },
    {
      "cell_type": "code",
      "source": [
        "eval_col = 'open_qa'\n",
        "temp_prompts_df = custom_questions_df[custom_questions_df['category'] == eval_col]\n",
        "\n",
        "for temp_prompt in temp_prompts_df['instruction']:\n",
        "    print('\\n')\n",
        "    temp_answer = get_response_with_output(llm_chain, temp_prompt, 80,\n",
        "                                           is_show_reply)"
      ],
      "metadata": {
        "colab": {
          "base_uri": "https://localhost:8080/",
          "height": 459
        },
        "id": "kca1Aa9WtFfL",
        "outputId": "cdf9c276-8020-428c-e52a-5fc90e2a8140"
      },
      "execution_count": 16,
      "outputs": [
        {
          "output_type": "stream",
          "name": "stdout",
          "text": [
            "\n",
            "\n"
          ]
        },
        {
          "output_type": "stream",
          "name": "stderr",
          "text": [
            "Llama.generate: prefix-match hit\n"
          ]
        },
        {
          "output_type": "display_data",
          "data": {
            "text/plain": [
              "<IPython.core.display.HTML object>"
            ],
            "text/html": [
              "What is the worst movie of all time?<br><br>Response:<br><b>The \"worst\" movie of all time is subjective and varies from person to person. However, some commonly cited examples include \"The Room,\" \"Battlefield Earth,\" \"Gigli,\" \"Manos: The Hands of Fate,\" and \"Troll 2.\"</b><END>"
            ]
          },
          "metadata": {}
        },
        {
          "output_type": "stream",
          "name": "stdout",
          "text": [
            "\n",
            "\n"
          ]
        },
        {
          "output_type": "stream",
          "name": "stderr",
          "text": [
            "Llama.generate: prefix-match hit\n"
          ]
        },
        {
          "output_type": "display_data",
          "data": {
            "text/plain": [
              "<IPython.core.display.HTML object>"
            ],
            "text/html": [
              "What is for you the most overrated movie of all time?<br><br>Response:<br><b>The Godfather.</b><END>"
            ]
          },
          "metadata": {}
        },
        {
          "output_type": "stream",
          "name": "stdout",
          "text": [
            "\n",
            "\n"
          ]
        },
        {
          "output_type": "stream",
          "name": "stderr",
          "text": [
            "Llama.generate: prefix-match hit\n"
          ]
        },
        {
          "output_type": "display_data",
          "data": {
            "text/plain": [
              "<IPython.core.display.HTML object>"
            ],
            "text/html": [
              "Do you think a world dominated by an Artificial Superintelligence would be ideal?<br><br>Response:<br><b>No, I do not think a world dominated by an Artificial Superintelligence (ASI) would be ideal. While ASIs could potentially bring about many benefits such as increased efficiency and productivity, they also pose significant risks to humanity. These include the potential for ASIs to become too powerful and make decisions that are beyond our understanding or control, leading to unforeseen consequences. Additionally, there is a risk that ASIs may not share our values and priorities, potentially leading to conflicts between humans and machines. Overall, while an ASI could bring about some benefits, the risks associated with their development and use are too great to consider them ideal for humanity.</b><END>"
            ]
          },
          "metadata": {}
        }
      ]
    },
    {
      "cell_type": "markdown",
      "source": [
        "## 3.4. Code generation"
      ],
      "metadata": {
        "id": "eFZJtlistJWp"
      }
    },
    {
      "cell_type": "code",
      "source": [
        "eval_col = 'code_generation'\n",
        "temp_prompts_df = custom_questions_df[custom_questions_df['category'] == eval_col]\n",
        "\n",
        "for temp_prompt in temp_prompts_df['instruction']:\n",
        "    print('\\n')\n",
        "    temp_answer = get_response_with_output(llm_chain, temp_prompt, 80,\n",
        "                                           is_show_reply)"
      ],
      "metadata": {
        "colab": {
          "base_uri": "https://localhost:8080/",
          "height": 647
        },
        "id": "HVJURH1ctJko",
        "outputId": "9dc906ff-71f8-4a22-9ead-273de974b968"
      },
      "execution_count": 17,
      "outputs": [
        {
          "output_type": "stream",
          "name": "stdout",
          "text": [
            "\n",
            "\n"
          ]
        },
        {
          "output_type": "stream",
          "name": "stderr",
          "text": [
            "Llama.generate: prefix-match hit\n"
          ]
        },
        {
          "output_type": "display_data",
          "data": {
            "text/plain": [
              "<IPython.core.display.HTML object>"
            ],
            "text/html": [
              "Generate me Python code for training a Linear Regression on the Boston housing prices dataset<br><br>Response:<br><b>Sure, here's some sample Python code to train a linear regression model on the Boston housing prices dataset using scikit-learn library:<br><br>```python<br>import pandas as pd<br>from sklearn.model_selection import train_test_split<br>from sklearn.linear_model import LinearRegression<br># Load the dataset<br>boston = pd.read_csv('boston.csv')<br># Split the data into training and testing sets<br>X_train, X_test, y_train, y_test = train_test_split(boston.drop(['medv', 'lstat'], axis=1), boston['medv'], test_size=0.2)<br># Create a linear regression model<br>model = LinearRegression()<br># Train the model on the training data<br>model.fit(X_train, y_train)<br># Evaluate the model on the testing data<br>score = model.score(X_test, y_test)<br>print('Model score:', score)<br>```<br><br>This code first loads the Boston housing prices dataset from a CSV file using Pandas library. It then splits the data into training and testing sets using `train_test_split` function from scikit-learn. The model is created as a LinearRegression object, which is a linear regression algorithm implemented in scikit-learn. The model is trained on the training data using the `fit` method of the model. Finally, the model is evaluated on the testing data using the `score` method of the model, and the score is printed to the console.</b><END>"
            ]
          },
          "metadata": {}
        },
        {
          "output_type": "stream",
          "name": "stdout",
          "text": [
            "\n",
            "\n"
          ]
        },
        {
          "output_type": "stream",
          "name": "stderr",
          "text": [
            "Llama.generate: prefix-match hit\n"
          ]
        },
        {
          "output_type": "display_data",
          "data": {
            "text/plain": [
              "<IPython.core.display.HTML object>"
            ],
            "text/html": [
              "Give me a Python regex code for extracting the year in the following string: \"The Downward Spiral, Nine Inch Nails (1994)\"<br><br>Response:<br><b>The regular expression to extract the year from the given string is `r'(d{4})` where `d` represents any digit and `{}` represents a quantifier that matches zero or more occurrences of the preceding character. So, the final regex code would be `re.search(r'r'(d{4})', \"The Downward Spiral, Nine Inch Nails (1994)\").group(0)` which returns the matched year as a string.</b><END>"
            ]
          },
          "metadata": {}
        }
      ]
    },
    {
      "cell_type": "markdown",
      "source": [
        "**Test here if the Regex works**:"
      ],
      "metadata": {
        "id": "PWn-hDDRGA1Z"
      }
    },
    {
      "cell_type": "code",
      "source": [
        "import re\n",
        "year_regex = r'(d{4})'\n",
        "string = \"The Downward Spiral, Nine Inch Nails (1994)\"\n",
        "matched_year = re.search(year_regex, string)#.group(0)\n",
        "print(matched_year) # Output: 1994"
      ],
      "metadata": {
        "id": "Pa8VZx-qGG1p",
        "colab": {
          "base_uri": "https://localhost:8080/"
        },
        "outputId": "27187c9d-2125-4f85-e8b1-9757fe14d9d9"
      },
      "execution_count": 23,
      "outputs": [
        {
          "output_type": "stream",
          "name": "stdout",
          "text": [
            "None\n"
          ]
        }
      ]
    },
    {
      "cell_type": "markdown",
      "source": [
        "# **4. Save Results**"
      ],
      "metadata": {
        "id": "MBfNMlxY_EKj"
      }
    },
    {
      "cell_type": "code",
      "source": [
        "# TBD"
      ],
      "metadata": {
        "id": "mG5FwuSh_Ea3"
      },
      "execution_count": 24,
      "outputs": []
    }
  ]
}